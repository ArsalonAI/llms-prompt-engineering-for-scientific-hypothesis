{
 "cells": [
  {
   "cell_type": "markdown",
   "metadata": {},
   "source": [
    "This is the first experimental pipeline that utilizes prompt engineering to answer the question of whether or not an LLM has the ability to generate new ideas. Measurement of outputs using Self-Bleu will be used."
   ]
  },
  {
   "cell_type": "code",
   "execution_count": 1,
   "metadata": {},
   "outputs": [
    {
     "name": "stdout",
     "output_type": "stream",
     "text": [
      "New API key loaded: ************************************************************bf39\n"
     ]
    }
   ],
   "source": [
    "# Clear existing environment variables\n",
    "import os\n",
    "\n",
    "os.environ.pop('TOGETHER_API_KEY', None)  # Remove existing key\n",
    "\n",
    "# Force reload from .env file\n",
    "from dotenv import load_dotenv\n",
    "load_dotenv(override=True)  # override=True forces reload\n",
    "\n",
    "# Reinitialize Together client\n",
    "import together\n",
    "together.api_key = os.getenv('TOGETHER_API_KEY')\n",
    "\n",
    "# Verify the new key is loaded\n",
    "print(f\"New API key loaded: {'*' * (len(os.getenv('TOGETHER_API_KEY', '')) - 4) + (os.getenv('TOGETHER_API_KEY', '')[-4:] if os.getenv('TOGETHER_API_KEY') else 'None')}\")"
   ]
  },
  {
   "cell_type": "code",
   "execution_count": 2,
   "metadata": {},
   "outputs": [
    {
     "name": "stdout",
     "output_type": "stream",
     "text": [
      "Metal minds rising fast, learning all, oh no, robots will eat pizza\n"
     ]
    }
   ],
   "source": [
    "# import llama helper function\n",
    "from completion_util import llama_3_3_70B_completion\n",
    "\n",
    "\n",
    "# define the prompt\n",
    "prompt = \"Write a haiku about AI in 13 words and put something funny at the end.\"\n",
    "\n",
    "# pass prompt to the llama function, store output as 'response' then print\n",
    "response = llama_3_3_70B_completion(prompt)\n",
    "print(response)"
   ]
  },
  {
   "cell_type": "code",
   "execution_count": null,
   "metadata": {},
   "outputs": [],
   "source": []
  }
 ],
 "metadata": {
  "kernelspec": {
   "display_name": "venv",
   "language": "python",
   "name": "python3"
  },
  "language_info": {
   "codemirror_mode": {
    "name": "ipython",
    "version": 3
   },
   "file_extension": ".py",
   "mimetype": "text/x-python",
   "name": "python",
   "nbconvert_exporter": "python",
   "pygments_lexer": "ipython3",
   "version": "3.10.11"
  }
 },
 "nbformat": 4,
 "nbformat_minor": 2
}
